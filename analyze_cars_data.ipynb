{
 "cells": [
  {
   "cell_type": "code",
   "execution_count": 1,
   "metadata": {
    "collapsed": true
   },
   "outputs": [],
   "source": [
    "import pandas as pd\n",
    "import pymysql\n",
    "import numpy as np\n",
    "import matplotlib.pylab as plt"
   ]
  },
  {
   "cell_type": "code",
   "execution_count": 118,
   "metadata": {
    "collapsed": false
   },
   "outputs": [
    {
     "data": {
      "text/html": [
       "<div>\n",
       "<table border=\"1\" class=\"dataframe\">\n",
       "  <thead>\n",
       "    <tr style=\"text-align: right;\">\n",
       "      <th></th>\n",
       "      <th>Title</th>\n",
       "      <th>Paint_color</th>\n",
       "      <th>Odometer</th>\n",
       "      <th>Fuel</th>\n",
       "      <th>Drive</th>\n",
       "      <th>carType</th>\n",
       "      <th>Title_status</th>\n",
       "      <th>Price</th>\n",
       "    </tr>\n",
       "  </thead>\n",
       "  <tbody>\n",
       "    <tr>\n",
       "      <th>0</th>\n",
       "      <td>2011 DODGE GRAND CARAVAN</td>\n",
       "      <td>silver</td>\n",
       "      <td>90000</td>\n",
       "      <td>gas</td>\n",
       "      <td>fwd</td>\n",
       "      <td>mini-van</td>\n",
       "      <td>clean</td>\n",
       "      <td>8990</td>\n",
       "    </tr>\n",
       "    <tr>\n",
       "      <th>1</th>\n",
       "      <td>2012 Mercedes-Benz GL-Class 4MATIC 4d</td>\n",
       "      <td>black</td>\n",
       "      <td>44414</td>\n",
       "      <td>gas</td>\n",
       "      <td>None</td>\n",
       "      <td>SUV</td>\n",
       "      <td>clean</td>\n",
       "      <td>29977</td>\n",
       "    </tr>\n",
       "    <tr>\n",
       "      <th>2</th>\n",
       "      <td>2010 Cadillac CTS-4 Wagon</td>\n",
       "      <td>white</td>\n",
       "      <td>85000</td>\n",
       "      <td>gas</td>\n",
       "      <td>4wd</td>\n",
       "      <td>wagon</td>\n",
       "      <td>clean</td>\n",
       "      <td>12999</td>\n",
       "    </tr>\n",
       "    <tr>\n",
       "      <th>3</th>\n",
       "      <td>2014 BMW 3 SERIES</td>\n",
       "      <td>blue</td>\n",
       "      <td>48958</td>\n",
       "      <td>gas</td>\n",
       "      <td></td>\n",
       "      <td>sedan</td>\n",
       "      <td>clean</td>\n",
       "      <td>4000</td>\n",
       "    </tr>\n",
       "    <tr>\n",
       "      <th>4</th>\n",
       "      <td>2014 Nissan Altima 2.5 SL</td>\n",
       "      <td>None</td>\n",
       "      <td>97275</td>\n",
       "      <td>gas</td>\n",
       "      <td>None</td>\n",
       "      <td>None</td>\n",
       "      <td>clean</td>\n",
       "      <td>5999</td>\n",
       "    </tr>\n",
       "    <tr>\n",
       "      <th>5</th>\n",
       "      <td>2011 Kia Sorento</td>\n",
       "      <td>black</td>\n",
       "      <td>99460</td>\n",
       "      <td>gas</td>\n",
       "      <td>4wd</td>\n",
       "      <td>SUV</td>\n",
       "      <td>clean</td>\n",
       "      <td>9995</td>\n",
       "    </tr>\n",
       "    <tr>\n",
       "      <th>6</th>\n",
       "      <td>2012 Dodge Charger 4dr Sdn SE RWD</td>\n",
       "      <td>silver</td>\n",
       "      <td>103122</td>\n",
       "      <td>other</td>\n",
       "      <td>rwd</td>\n",
       "      <td>sedan</td>\n",
       "      <td>clean</td>\n",
       "      <td>7980</td>\n",
       "    </tr>\n",
       "    <tr>\n",
       "      <th>7</th>\n",
       "      <td>2014 MERCEDES-BENZ E-CLASS</td>\n",
       "      <td>blue</td>\n",
       "      <td>15861</td>\n",
       "      <td>gas</td>\n",
       "      <td></td>\n",
       "      <td>sedan</td>\n",
       "      <td>clean</td>\n",
       "      <td>4000</td>\n",
       "    </tr>\n",
       "    <tr>\n",
       "      <th>8</th>\n",
       "      <td>2006 Toyota 4Runner</td>\n",
       "      <td>None</td>\n",
       "      <td>124000</td>\n",
       "      <td>gas</td>\n",
       "      <td>4wd</td>\n",
       "      <td>None</td>\n",
       "      <td>clean</td>\n",
       "      <td>9200</td>\n",
       "    </tr>\n",
       "    <tr>\n",
       "      <th>9</th>\n",
       "      <td>2012 Honda Odyssey EX-L</td>\n",
       "      <td>None</td>\n",
       "      <td>50714</td>\n",
       "      <td>gas</td>\n",
       "      <td>fwd</td>\n",
       "      <td>mini-van</td>\n",
       "      <td>clean</td>\n",
       "      <td>19789</td>\n",
       "    </tr>\n",
       "    <tr>\n",
       "      <th>10</th>\n",
       "      <td>2013 Infiniti JX AWD</td>\n",
       "      <td>black</td>\n",
       "      <td>103741</td>\n",
       "      <td>gas</td>\n",
       "      <td>None</td>\n",
       "      <td>SUV</td>\n",
       "      <td>clean</td>\n",
       "      <td>18995</td>\n",
       "    </tr>\n",
       "    <tr>\n",
       "      <th>11</th>\n",
       "      <td>2012 Honda Accord Sdn 4dr I4 Auto SE</td>\n",
       "      <td>white</td>\n",
       "      <td>42064</td>\n",
       "      <td>gas</td>\n",
       "      <td>fwd</td>\n",
       "      <td>sedan</td>\n",
       "      <td>clean</td>\n",
       "      <td>11998</td>\n",
       "    </tr>\n",
       "    <tr>\n",
       "      <th>12</th>\n",
       "      <td>2013 MERCEDES-BENZ C-CLASS</td>\n",
       "      <td>black</td>\n",
       "      <td>49501</td>\n",
       "      <td>gas</td>\n",
       "      <td></td>\n",
       "      <td>sedan</td>\n",
       "      <td>clean</td>\n",
       "      <td>4000</td>\n",
       "    </tr>\n",
       "    <tr>\n",
       "      <th>13</th>\n",
       "      <td>2005 Cadillac Escalade AWD</td>\n",
       "      <td>white</td>\n",
       "      <td>226542</td>\n",
       "      <td>gas</td>\n",
       "      <td>None</td>\n",
       "      <td>SUV</td>\n",
       "      <td>clean</td>\n",
       "      <td>6500</td>\n",
       "    </tr>\n",
       "    <tr>\n",
       "      <th>14</th>\n",
       "      <td>2012 Infiniti G37 Sedan x</td>\n",
       "      <td>None</td>\n",
       "      <td>44347</td>\n",
       "      <td>gas</td>\n",
       "      <td>None</td>\n",
       "      <td>sedan</td>\n",
       "      <td>clean</td>\n",
       "      <td>16800</td>\n",
       "    </tr>\n",
       "  </tbody>\n",
       "</table>\n",
       "</div>"
      ],
      "text/plain": [
       "                                    Title Paint_color  Odometer   Fuel Drive  \\\n",
       "0                2011 DODGE GRAND CARAVAN      silver     90000    gas   fwd   \n",
       "1   2012 Mercedes-Benz GL-Class 4MATIC 4d       black     44414    gas  None   \n",
       "2               2010 Cadillac CTS-4 Wagon       white     85000    gas   4wd   \n",
       "3                       2014 BMW 3 SERIES        blue     48958    gas         \n",
       "4               2014 Nissan Altima 2.5 SL        None     97275    gas  None   \n",
       "5                        2011 Kia Sorento       black     99460    gas   4wd   \n",
       "6       2012 Dodge Charger 4dr Sdn SE RWD      silver    103122  other   rwd   \n",
       "7              2014 MERCEDES-BENZ E-CLASS        blue     15861    gas         \n",
       "8                     2006 Toyota 4Runner        None    124000    gas   4wd   \n",
       "9                 2012 Honda Odyssey EX-L        None     50714    gas   fwd   \n",
       "10                   2013 Infiniti JX AWD       black    103741    gas  None   \n",
       "11   2012 Honda Accord Sdn 4dr I4 Auto SE       white     42064    gas   fwd   \n",
       "12             2013 MERCEDES-BENZ C-CLASS       black     49501    gas         \n",
       "13             2005 Cadillac Escalade AWD       white    226542    gas  None   \n",
       "14              2012 Infiniti G37 Sedan x        None     44347    gas  None   \n",
       "\n",
       "     carType Title_status  Price  \n",
       "0   mini-van        clean   8990  \n",
       "1        SUV        clean  29977  \n",
       "2      wagon        clean  12999  \n",
       "3      sedan        clean   4000  \n",
       "4       None        clean   5999  \n",
       "5        SUV        clean   9995  \n",
       "6      sedan        clean   7980  \n",
       "7      sedan        clean   4000  \n",
       "8       None        clean   9200  \n",
       "9   mini-van        clean  19789  \n",
       "10       SUV        clean  18995  \n",
       "11     sedan        clean  11998  \n",
       "12     sedan        clean   4000  \n",
       "13       SUV        clean   6500  \n",
       "14     sedan        clean  16800  "
      ]
     },
     "execution_count": 118,
     "metadata": {},
     "output_type": "execute_result"
    }
   ],
   "source": [
    "conn = pymysql.connect(host='127.0.0.1', port = 3306, user='root',passwd = 'mysql', db = 'craglist_data',charset='utf8')\n",
    "sql = \"select * from cars_info\"\n",
    "df = pd.read_sql(sql,conn)\n",
    "df.head(15)"
   ]
  },
  {
   "cell_type": "code",
   "execution_count": 153,
   "metadata": {
    "collapsed": false
   },
   "outputs": [
    {
     "data": {
      "text/html": [
       "<div>\n",
       "<table border=\"1\" class=\"dataframe\">\n",
       "  <thead>\n",
       "    <tr style=\"text-align: right;\">\n",
       "      <th></th>\n",
       "      <th>Odometer</th>\n",
       "      <th>Price</th>\n",
       "      <th>carType1</th>\n",
       "    </tr>\n",
       "  </thead>\n",
       "  <tbody>\n",
       "    <tr>\n",
       "      <th>count</th>\n",
       "      <td>2026.000000</td>\n",
       "      <td>2026.000000</td>\n",
       "      <td>2026.000000</td>\n",
       "    </tr>\n",
       "    <tr>\n",
       "      <th>mean</th>\n",
       "      <td>70000.258144</td>\n",
       "      <td>14833.557256</td>\n",
       "      <td>11.385982</td>\n",
       "    </tr>\n",
       "    <tr>\n",
       "      <th>std</th>\n",
       "      <td>43926.756809</td>\n",
       "      <td>12139.839820</td>\n",
       "      <td>2.288151</td>\n",
       "    </tr>\n",
       "    <tr>\n",
       "      <th>min</th>\n",
       "      <td>0.000000</td>\n",
       "      <td>1600.000000</td>\n",
       "      <td>1.000000</td>\n",
       "    </tr>\n",
       "    <tr>\n",
       "      <th>25%</th>\n",
       "      <td>37048.250000</td>\n",
       "      <td>8980.000000</td>\n",
       "      <td>11.000000</td>\n",
       "    </tr>\n",
       "    <tr>\n",
       "      <th>50%</th>\n",
       "      <td>62521.000000</td>\n",
       "      <td>11924.000000</td>\n",
       "      <td>12.000000</td>\n",
       "    </tr>\n",
       "    <tr>\n",
       "      <th>75%</th>\n",
       "      <td>97016.500000</td>\n",
       "      <td>16998.750000</td>\n",
       "      <td>13.000000</td>\n",
       "    </tr>\n",
       "    <tr>\n",
       "      <th>max</th>\n",
       "      <td>414024.000000</td>\n",
       "      <td>219890.000000</td>\n",
       "      <td>13.000000</td>\n",
       "    </tr>\n",
       "  </tbody>\n",
       "</table>\n",
       "</div>"
      ],
      "text/plain": [
       "            Odometer          Price     carType1\n",
       "count    2026.000000    2026.000000  2026.000000\n",
       "mean    70000.258144   14833.557256    11.385982\n",
       "std     43926.756809   12139.839820     2.288151\n",
       "min         0.000000    1600.000000     1.000000\n",
       "25%     37048.250000    8980.000000    11.000000\n",
       "50%     62521.000000   11924.000000    12.000000\n",
       "75%     97016.500000   16998.750000    13.000000\n",
       "max    414024.000000  219890.000000    13.000000"
      ]
     },
     "execution_count": 153,
     "metadata": {},
     "output_type": "execute_result"
    }
   ],
   "source": [
    "df.describe()"
   ]
  },
  {
   "cell_type": "code",
   "execution_count": 10,
   "metadata": {
    "collapsed": false
   },
   "outputs": [
    {
     "data": {
      "image/png": "[encoded data removed]",
      "text/plain": [
       "<matplotlib.figure.Figure at 0x113779470>"
      ]
     },
     "metadata": {},
     "output_type": "display_data"
    }
   ],
   "source": [
    "#rank the popularity of cars, find the first 5 brands\n",
    "title = df['Title']\n",
    "brands = []\n",
    "for i in title:\n",
    "    brands.append(i.split()[1].upper())\n",
    "brand= set(brands)\n",
    "brand_value = {}\n",
    "for i in brand:\n",
    "    brand_value[i] = brands.count(i)\n",
    "brand_value = sorted(brand_value.items(), key=lambda item:item[1])\n",
    "first_5 = brand_value[-5:]\n",
    "first_5_brands = [i[0] for i in first_5]\n",
    "first_5_values = [i[1] for i in first_5]\n",
    "fig = plt.figure()\n",
    "ax = plt.subplot(111)\n",
    "ax.bar(np.arange(5), first_5_values,width = 0.4, color = 'g')\n",
    "ax.set_xticks(np.arange(5))\n",
    "ax.set_xticklabels(first_5_brands)\n",
    "ax.set_xlabel('Brand',color = 'Blue')\n",
    "ax.set_ylabel('Quantity',color = 'Blue')\n",
    "plt.title('First 5 car_brands sold by dealer')\n",
    "plt.show()"
   ]
  },
  {
   "cell_type": "code",
   "execution_count": 28,
   "metadata": {
    "collapsed": false
   },
   "outputs": [
    {
     "data": {
      "text/plain": [
       "1995"
      ]
     },
     "execution_count": 28,
     "metadata": {},
     "output_type": "execute_result"
    }
   ],
   "source": [
    "#count_value function is used to count the number of character in every feature\n",
    "def count_value(column, attr):\n",
    "    return sum(1 for i in column if i == attr)\n",
    "count_value(df.Title_status, 'clean')"
   ]
  },
  {
   "cell_type": "code",
   "execution_count": 124,
   "metadata": {
    "collapsed": false
   },
   "outputs": [
    {
     "name": "stdout",
     "output_type": "stream",
     "text": [
      "{'hatchback': 2, 'convertible': 9, 'SUV': 12, 'sedan': 13, 'wagon': 5, 'coupe': 10, 'pickup': 4, 'truck': 3, None: 11, 'van': 7, 'bus': 1, 'mini-van': 8, 'other': 6}\n"
     ]
    }
   ],
   "source": [
    "def change_attr_to_value(column):\n",
    "    dict_ = {}\n",
    "    for i in column.unique():\n",
    "        dict_[i] = count_value(column, i)\n",
    "    #print(dict_)\n",
    "    list_sorted = sorted(dict_.items(), key = lambda item:item[1])\n",
    "    list_sorted = [list(item) for item in list_sorted]\n",
    "    dict_sorted = {}\n",
    "    for i in range(len(list_sorted)):\n",
    "        list_sorted[i][1] = i + 1\n",
    "        dict_sorted[list_sorted[i][0]] = list_sorted[i][1]\n",
    "    print(dict_sorted)\n",
    "    return dict_sorted\n",
    "cartype = change_attr_to_value(df.carType)"
   ]
  },
  {
   "cell_type": "code",
   "execution_count": 125,
   "metadata": {
    "collapsed": false
   },
   "outputs": [],
   "source": [
    "#map the corresponding values to carType1\n",
    "df['carType1'] = df['carType'].map(cartype)"
   ]
  },
  {
   "cell_type": "code",
   "execution_count": 146,
   "metadata": {
    "collapsed": false,
    "scrolled": true
   },
   "outputs": [
    {
     "data": {
      "text/html": [
       "<div>\n",
       "<table border=\"1\" class=\"dataframe\">\n",
       "  <thead>\n",
       "    <tr style=\"text-align: right;\">\n",
       "      <th></th>\n",
       "      <th>Title</th>\n",
       "      <th>Paint_color</th>\n",
       "      <th>Odometer</th>\n",
       "      <th>Fuel</th>\n",
       "      <th>Drive</th>\n",
       "      <th>carType</th>\n",
       "      <th>Title_status</th>\n",
       "      <th>Price</th>\n",
       "      <th>carType1</th>\n",
       "    </tr>\n",
       "  </thead>\n",
       "  <tbody>\n",
       "    <tr>\n",
       "      <th>0</th>\n",
       "      <td>2011 DODGE GRAND CARAVAN</td>\n",
       "      <td>silver</td>\n",
       "      <td>90000</td>\n",
       "      <td>gas</td>\n",
       "      <td>fwd</td>\n",
       "      <td>mini-van</td>\n",
       "      <td>clean</td>\n",
       "      <td>8990</td>\n",
       "      <td>8</td>\n",
       "    </tr>\n",
       "    <tr>\n",
       "      <th>1</th>\n",
       "      <td>2012 Mercedes-Benz GL-Class 4MATIC 4d</td>\n",
       "      <td>black</td>\n",
       "      <td>44414</td>\n",
       "      <td>gas</td>\n",
       "      <td>None</td>\n",
       "      <td>SUV</td>\n",
       "      <td>clean</td>\n",
       "      <td>29977</td>\n",
       "      <td>12</td>\n",
       "    </tr>\n",
       "    <tr>\n",
       "      <th>2</th>\n",
       "      <td>2010 Cadillac CTS-4 Wagon</td>\n",
       "      <td>white</td>\n",
       "      <td>85000</td>\n",
       "      <td>gas</td>\n",
       "      <td>4wd</td>\n",
       "      <td>wagon</td>\n",
       "      <td>clean</td>\n",
       "      <td>12999</td>\n",
       "      <td>5</td>\n",
       "    </tr>\n",
       "    <tr>\n",
       "      <th>3</th>\n",
       "      <td>2014 BMW 3 SERIES</td>\n",
       "      <td>blue</td>\n",
       "      <td>48958</td>\n",
       "      <td>gas</td>\n",
       "      <td></td>\n",
       "      <td>sedan</td>\n",
       "      <td>clean</td>\n",
       "      <td>4000</td>\n",
       "      <td>13</td>\n",
       "    </tr>\n",
       "    <tr>\n",
       "      <th>4</th>\n",
       "      <td>2014 Nissan Altima 2.5 SL</td>\n",
       "      <td>None</td>\n",
       "      <td>97275</td>\n",
       "      <td>gas</td>\n",
       "      <td>None</td>\n",
       "      <td>None</td>\n",
       "      <td>clean</td>\n",
       "      <td>5999</td>\n",
       "      <td>11</td>\n",
       "    </tr>\n",
       "    <tr>\n",
       "      <th>5</th>\n",
       "      <td>2011 Kia Sorento</td>\n",
       "      <td>black</td>\n",
       "      <td>99460</td>\n",
       "      <td>gas</td>\n",
       "      <td>4wd</td>\n",
       "      <td>SUV</td>\n",
       "      <td>clean</td>\n",
       "      <td>9995</td>\n",
       "      <td>12</td>\n",
       "    </tr>\n",
       "    <tr>\n",
       "      <th>6</th>\n",
       "      <td>2012 Dodge Charger 4dr Sdn SE RWD</td>\n",
       "      <td>silver</td>\n",
       "      <td>103122</td>\n",
       "      <td>other</td>\n",
       "      <td>rwd</td>\n",
       "      <td>sedan</td>\n",
       "      <td>clean</td>\n",
       "      <td>7980</td>\n",
       "      <td>13</td>\n",
       "    </tr>\n",
       "    <tr>\n",
       "      <th>7</th>\n",
       "      <td>2014 MERCEDES-BENZ E-CLASS</td>\n",
       "      <td>blue</td>\n",
       "      <td>15861</td>\n",
       "      <td>gas</td>\n",
       "      <td></td>\n",
       "      <td>sedan</td>\n",
       "      <td>clean</td>\n",
       "      <td>4000</td>\n",
       "      <td>13</td>\n",
       "    </tr>\n",
       "    <tr>\n",
       "      <th>8</th>\n",
       "      <td>2006 Toyota 4Runner</td>\n",
       "      <td>None</td>\n",
       "      <td>124000</td>\n",
       "      <td>gas</td>\n",
       "      <td>4wd</td>\n",
       "      <td>None</td>\n",
       "      <td>clean</td>\n",
       "      <td>9200</td>\n",
       "      <td>11</td>\n",
       "    </tr>\n",
       "    <tr>\n",
       "      <th>9</th>\n",
       "      <td>2012 Honda Odyssey EX-L</td>\n",
       "      <td>None</td>\n",
       "      <td>50714</td>\n",
       "      <td>gas</td>\n",
       "      <td>fwd</td>\n",
       "      <td>mini-van</td>\n",
       "      <td>clean</td>\n",
       "      <td>19789</td>\n",
       "      <td>8</td>\n",
       "    </tr>\n",
       "  </tbody>\n",
       "</table>\n",
       "</div>"
      ],
      "text/plain": [
       "                                   Title Paint_color  Odometer   Fuel Drive  \\\n",
       "0               2011 DODGE GRAND CARAVAN      silver     90000    gas   fwd   \n",
       "1  2012 Mercedes-Benz GL-Class 4MATIC 4d       black     44414    gas  None   \n",
       "2              2010 Cadillac CTS-4 Wagon       white     85000    gas   4wd   \n",
       "3                      2014 BMW 3 SERIES        blue     48958    gas         \n",
       "4              2014 Nissan Altima 2.5 SL        None     97275    gas  None   \n",
       "5                       2011 Kia Sorento       black     99460    gas   4wd   \n",
       "6      2012 Dodge Charger 4dr Sdn SE RWD      silver    103122  other   rwd   \n",
       "7             2014 MERCEDES-BENZ E-CLASS        blue     15861    gas         \n",
       "8                    2006 Toyota 4Runner        None    124000    gas   4wd   \n",
       "9                2012 Honda Odyssey EX-L        None     50714    gas   fwd   \n",
       "\n",
       "    carType Title_status  Price  carType1  \n",
       "0  mini-van        clean   8990         8  \n",
       "1       SUV        clean  29977        12  \n",
       "2     wagon        clean  12999         5  \n",
       "3     sedan        clean   4000        13  \n",
       "4      None        clean   5999        11  \n",
       "5       SUV        clean   9995        12  \n",
       "6     sedan        clean   7980        13  \n",
       "7     sedan        clean   4000        13  \n",
       "8      None        clean   9200        11  \n",
       "9  mini-van        clean  19789         8  "
      ]
     },
     "execution_count": 146,
     "metadata": {},
     "output_type": "execute_result"
    }
   ],
   "source": [
    "df.head(10)"
   ]
  },
  {
   "cell_type": "code",
   "execution_count": 139,
   "metadata": {
    "collapsed": false
   },
   "outputs": [
    {
     "data": {
      "text/plain": [
       "10772"
      ]
     },
     "execution_count": 139,
     "metadata": {},
     "output_type": "execute_result"
    }
   ],
   "source": [
    "np.random.randint(8000,12000)"
   ]
  },
  {
   "cell_type": "code",
   "execution_count": 151,
   "metadata": {
    "collapsed": false
   },
   "outputs": [],
   "source": [
    "#change price to be reasonable\n",
    "df['Price'] = df['Price'].replace(4000, np.random.randint(8000,12000))"
   ]
  },
  {
   "cell_type": "code",
   "execution_count": 163,
   "metadata": {
    "collapsed": false
   },
   "outputs": [],
   "source": [
    "#divide the Price class into 3 categories(1 = low, 2 = middle, 3 = high)\n",
    "bins = [0,6000,11000,1000000]\n",
    "labels = pd.cut(df.Price, bins, labels = [1,2,3])\n",
    "df.price_level = labels"
   ]
  },
  {
   "cell_type": "code",
   "execution_count": 164,
   "metadata": {
    "collapsed": false
   },
   "outputs": [
    {
     "data": {
      "text/html": [
       "<div>\n",
       "<table border=\"1\" class=\"dataframe\">\n",
       "  <thead>\n",
       "    <tr style=\"text-align: right;\">\n",
       "      <th></th>\n",
       "      <th>Title</th>\n",
       "      <th>Paint_color</th>\n",
       "      <th>Odometer</th>\n",
       "      <th>Fuel</th>\n",
       "      <th>Drive</th>\n",
       "      <th>carType</th>\n",
       "      <th>Title_status</th>\n",
       "      <th>Price</th>\n",
       "      <th>carType1</th>\n",
       "      <th>price_level</th>\n",
       "    </tr>\n",
       "  </thead>\n",
       "  <tbody>\n",
       "    <tr>\n",
       "      <th>0</th>\n",
       "      <td>2011 DODGE GRAND CARAVAN</td>\n",
       "      <td>silver</td>\n",
       "      <td>90000</td>\n",
       "      <td>gas</td>\n",
       "      <td>fwd</td>\n",
       "      <td>mini-van</td>\n",
       "      <td>clean</td>\n",
       "      <td>8990</td>\n",
       "      <td>8</td>\n",
       "      <td>2</td>\n",
       "    </tr>\n",
       "    <tr>\n",
       "      <th>1</th>\n",
       "      <td>2012 Mercedes-Benz GL-Class 4MATIC 4d</td>\n",
       "      <td>black</td>\n",
       "      <td>44414</td>\n",
       "      <td>gas</td>\n",
       "      <td>None</td>\n",
       "      <td>SUV</td>\n",
       "      <td>clean</td>\n",
       "      <td>29977</td>\n",
       "      <td>12</td>\n",
       "      <td>3</td>\n",
       "    </tr>\n",
       "    <tr>\n",
       "      <th>2</th>\n",
       "      <td>2010 Cadillac CTS-4 Wagon</td>\n",
       "      <td>white</td>\n",
       "      <td>85000</td>\n",
       "      <td>gas</td>\n",
       "      <td>4wd</td>\n",
       "      <td>wagon</td>\n",
       "      <td>clean</td>\n",
       "      <td>12999</td>\n",
       "      <td>5</td>\n",
       "      <td>3</td>\n",
       "    </tr>\n",
       "    <tr>\n",
       "      <th>3</th>\n",
       "      <td>2014 BMW 3 SERIES</td>\n",
       "      <td>blue</td>\n",
       "      <td>48958</td>\n",
       "      <td>gas</td>\n",
       "      <td></td>\n",
       "      <td>sedan</td>\n",
       "      <td>clean</td>\n",
       "      <td>11924</td>\n",
       "      <td>13</td>\n",
       "      <td>3</td>\n",
       "    </tr>\n",
       "    <tr>\n",
       "      <th>4</th>\n",
       "      <td>2014 Nissan Altima 2.5 SL</td>\n",
       "      <td>None</td>\n",
       "      <td>97275</td>\n",
       "      <td>gas</td>\n",
       "      <td>None</td>\n",
       "      <td>None</td>\n",
       "      <td>clean</td>\n",
       "      <td>5999</td>\n",
       "      <td>11</td>\n",
       "      <td>1</td>\n",
       "    </tr>\n",
       "    <tr>\n",
       "      <th>5</th>\n",
       "      <td>2011 Kia Sorento</td>\n",
       "      <td>black</td>\n",
       "      <td>99460</td>\n",
       "      <td>gas</td>\n",
       "      <td>4wd</td>\n",
       "      <td>SUV</td>\n",
       "      <td>clean</td>\n",
       "      <td>9995</td>\n",
       "      <td>12</td>\n",
       "      <td>2</td>\n",
       "    </tr>\n",
       "    <tr>\n",
       "      <th>6</th>\n",
       "      <td>2012 Dodge Charger 4dr Sdn SE RWD</td>\n",
       "      <td>silver</td>\n",
       "      <td>103122</td>\n",
       "      <td>other</td>\n",
       "      <td>rwd</td>\n",
       "      <td>sedan</td>\n",
       "      <td>clean</td>\n",
       "      <td>7980</td>\n",
       "      <td>13</td>\n",
       "      <td>2</td>\n",
       "    </tr>\n",
       "    <tr>\n",
       "      <th>7</th>\n",
       "      <td>2014 MERCEDES-BENZ E-CLASS</td>\n",
       "      <td>blue</td>\n",
       "      <td>15861</td>\n",
       "      <td>gas</td>\n",
       "      <td></td>\n",
       "      <td>sedan</td>\n",
       "      <td>clean</td>\n",
       "      <td>11924</td>\n",
       "      <td>13</td>\n",
       "      <td>3</td>\n",
       "    </tr>\n",
       "    <tr>\n",
       "      <th>8</th>\n",
       "      <td>2006 Toyota 4Runner</td>\n",
       "      <td>None</td>\n",
       "      <td>124000</td>\n",
       "      <td>gas</td>\n",
       "      <td>4wd</td>\n",
       "      <td>None</td>\n",
       "      <td>clean</td>\n",
       "      <td>9200</td>\n",
       "      <td>11</td>\n",
       "      <td>2</td>\n",
       "    </tr>\n",
       "    <tr>\n",
       "      <th>9</th>\n",
       "      <td>2012 Honda Odyssey EX-L</td>\n",
       "      <td>None</td>\n",
       "      <td>50714</td>\n",
       "      <td>gas</td>\n",
       "      <td>fwd</td>\n",
       "      <td>mini-van</td>\n",
       "      <td>clean</td>\n",
       "      <td>19789</td>\n",
       "      <td>8</td>\n",
       "      <td>3</td>\n",
       "    </tr>\n",
       "  </tbody>\n",
       "</table>\n",
       "</div>"
      ],
      "text/plain": [
       "                                   Title Paint_color  Odometer   Fuel Drive  \\\n",
       "0               2011 DODGE GRAND CARAVAN      silver     90000    gas   fwd   \n",
       "1  2012 Mercedes-Benz GL-Class 4MATIC 4d       black     44414    gas  None   \n",
       "2              2010 Cadillac CTS-4 Wagon       white     85000    gas   4wd   \n",
       "3                      2014 BMW 3 SERIES        blue     48958    gas         \n",
       "4              2014 Nissan Altima 2.5 SL        None     97275    gas  None   \n",
       "5                       2011 Kia Sorento       black     99460    gas   4wd   \n",
       "6      2012 Dodge Charger 4dr Sdn SE RWD      silver    103122  other   rwd   \n",
       "7             2014 MERCEDES-BENZ E-CLASS        blue     15861    gas         \n",
       "8                    2006 Toyota 4Runner        None    124000    gas   4wd   \n",
       "9                2012 Honda Odyssey EX-L        None     50714    gas   fwd   \n",
       "\n",
       "    carType Title_status  Price  carType1 price_level  \n",
       "0  mini-van        clean   8990         8           2  \n",
       "1       SUV        clean  29977        12           3  \n",
       "2     wagon        clean  12999         5           3  \n",
       "3     sedan        clean  11924        13           3  \n",
       "4      None        clean   5999        11           1  \n",
       "5       SUV        clean   9995        12           2  \n",
       "6     sedan        clean   7980        13           2  \n",
       "7     sedan        clean  11924        13           3  \n",
       "8      None        clean   9200        11           2  \n",
       "9  mini-van        clean  19789         8           3  "
      ]
     },
     "execution_count": 164,
     "metadata": {},
     "output_type": "execute_result"
    }
   ],
   "source": [
    "df[:10]"
   ]
  },
  {
   "cell_type": "code",
   "execution_count": 180,
   "metadata": {
    "collapsed": false
   },
   "outputs": [],
   "source": [
    "df_x = pd.concat([df.Odometer, df.carType1],axis=1)"
   ]
  },
  {
   "cell_type": "code",
   "execution_count": 181,
   "metadata": {
    "collapsed": false
   },
   "outputs": [
    {
     "data": {
      "text/html": [
       "<div>\n",
       "<table border=\"1\" class=\"dataframe\">\n",
       "  <thead>\n",
       "    <tr style=\"text-align: right;\">\n",
       "      <th></th>\n",
       "      <th>Odometer</th>\n",
       "      <th>carType1</th>\n",
       "    </tr>\n",
       "  </thead>\n",
       "  <tbody>\n",
       "    <tr>\n",
       "      <th>0</th>\n",
       "      <td>90000</td>\n",
       "      <td>8</td>\n",
       "    </tr>\n",
       "    <tr>\n",
       "      <th>1</th>\n",
       "      <td>44414</td>\n",
       "      <td>12</td>\n",
       "    </tr>\n",
       "    <tr>\n",
       "      <th>2</th>\n",
       "      <td>85000</td>\n",
       "      <td>5</td>\n",
       "    </tr>\n",
       "    <tr>\n",
       "      <th>3</th>\n",
       "      <td>48958</td>\n",
       "      <td>13</td>\n",
       "    </tr>\n",
       "    <tr>\n",
       "      <th>4</th>\n",
       "      <td>97275</td>\n",
       "      <td>11</td>\n",
       "    </tr>\n",
       "  </tbody>\n",
       "</table>\n",
       "</div>"
      ],
      "text/plain": [
       "   Odometer  carType1\n",
       "0     90000         8\n",
       "1     44414        12\n",
       "2     85000         5\n",
       "3     48958        13\n",
       "4     97275        11"
      ]
     },
     "execution_count": 181,
     "metadata": {},
     "output_type": "execute_result"
    }
   ],
   "source": [
    "df_x[:5]"
   ]
  },
  {
   "cell_type": "code",
   "execution_count": 170,
   "metadata": {
    "collapsed": true
   },
   "outputs": [],
   "source": [
    "df_y = df.price_level"
   ]
  },
  {
   "cell_type": "code",
   "execution_count": 171,
   "metadata": {
    "collapsed": false,
    "scrolled": true
   },
   "outputs": [
    {
     "data": {
      "text/plain": [
       "0    2\n",
       "1    3\n",
       "2    3\n",
       "3    3\n",
       "4    1\n",
       "Name: price_level, dtype: category\n",
       "Categories (3, int64): [1 < 2 < 3]"
      ]
     },
     "execution_count": 171,
     "metadata": {},
     "output_type": "execute_result"
    }
   ],
   "source": [
    "df_y.head()"
   ]
  },
  {
   "cell_type": "code",
   "execution_count": 192,
   "metadata": {
    "collapsed": true
   },
   "outputs": [],
   "source": [
    "from sklearn.cross_validation import train_test_split\n",
    "from sklearn.svm import SVC\n",
    "X, y = df_x.values, np.array(df_y.values)"
   ]
  },
  {
   "cell_type": "code",
   "execution_count": 193,
   "metadata": {
    "collapsed": false
   },
   "outputs": [],
   "source": [
    "X_train, X_test, y_train, y_test = train_test_split(X, y, test_size = 0.3)"
   ]
  },
  {
   "cell_type": "code",
   "execution_count": 288,
   "metadata": {
    "collapsed": false
   },
   "outputs": [
    {
     "data": {
      "text/plain": [
       "SVC(C=1.0, cache_size=200, class_weight=None, coef0=0.0,\n",
       "  decision_function_shape=None, degree=3, gamma=0.1, kernel='rbf',\n",
       "  max_iter=-1, probability=False, random_state=0, shrinking=True,\n",
       "  tol=0.001, verbose=False)"
      ]
     },
     "execution_count": 288,
     "metadata": {},
     "output_type": "execute_result"
    }
   ],
   "source": [
    "svm = SVC(kernel = 'rbf', gamma = 0.1, C = 1.0 , random_state = 0)\n",
    "svm.fit(X_train, y_train)"
   ]
  },
  {
   "cell_type": "code",
   "execution_count": 289,
   "metadata": {
    "collapsed": false
   },
   "outputs": [
    {
     "data": {
      "text/plain": [
       "0.68585526315789469"
      ]
     },
     "execution_count": 289,
     "metadata": {},
     "output_type": "execute_result"
    }
   ],
   "source": [
    "svm.score(X_test, y_test)"
   ]
  },
  {
   "cell_type": "code",
   "execution_count": null,
   "metadata": {
    "collapsed": true
   },
   "outputs": [],
   "source": []
  }
 ],
 "metadata": {
  "anaconda-cloud": {},
  "kernelspec": {
   "display_name": "Python [conda root]",
   "language": "python",
   "name": "conda-root-py"
  },
  "language_info": {
   "codemirror_mode": {
    "name": "ipython",
    "version": 3
   },
   "file_extension": ".py",
   "mimetype": "text/x-python",
   "name": "python",
   "nbconvert_exporter": "python",
   "pygments_lexer": "ipython3",
   "version": "3.5.2"
  }
 },
 "nbformat": 4,
 "nbformat_minor": 1
}
